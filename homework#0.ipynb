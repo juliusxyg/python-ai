{
 "cells": [
  {
   "cell_type": "markdown",
   "metadata": {},
   "source": [
    "# 目录\n",
    "\n",
    "1. 练习1：利用np.exp()实现sigmod函数\n",
    "2. 练习2：计算sigmod函数的导数\n",
    "3. 练习3：将一副图像转为为一个向量\n",
    "4. 练习4：按行归一化\n",
    "5. 练习5：广播的使用及softmax函数的实现\n",
    "6. 练习6：L1误差函数的实现\n",
    "7. 练习7：L2误差函数的实现"
   ]
  },
  {
   "attachments": {
    "image.png": {
     "image/png": "[encoded data removed]"
    }
   },
   "cell_type": "markdown",
   "metadata": {},
   "source": [
    "### 练习1 利用np.exp()实现sigmod函数：\n",
    "\n",
    "在利用np.exp()函数之前，我们首先使用math.exp()函数来实现sigmod函数，并将二者对比来突出np.exp()的优点。\n",
    "\n",
    "其中，**sigmod(x)=1 / (1+1/e^x)**\n",
    "\n",
    "![image.png](attachment:image.png)\n"
   ]
  },
  {
   "cell_type": "code",
   "execution_count": 4,
   "metadata": {},
   "outputs": [
    {
     "name": "stdout",
     "output_type": "stream",
     "text": [
      "0.9525741268224334\n"
     ]
    }
   ],
   "source": [
    "import math\n",
    "\n",
    "def basic_sigmod(x):\n",
    "    \"\"\"\n",
    "    # calculate single scalar sigmod value\n",
    "    \"\"\"\n",
    "    s = 1.0/(1+1/math.exp(x))\n",
    "    return s\n",
    "\n",
    "print (basic_sigmod(3)) \n"
   ]
  },
  {
   "cell_type": "code",
   "execution_count": 6,
   "metadata": {},
   "outputs": [
    {
     "name": "stdout",
     "output_type": "stream",
     "text": [
      "[ 20.08553692   7.3890561    2.71828183]\n",
      "[6 5 4]\n"
     ]
    }
   ],
   "source": [
    "import numpy as np\n",
    "\n",
    "\"\"\"\n",
    "#use numpy to work with matrix\n",
    "\"\"\"\n",
    "x = np.array([3, 2, 1]) \n",
    "print (np.exp(x)) \n",
    "print (x+3) \n"
   ]
  },
  {
   "cell_type": "code",
   "execution_count": 7,
   "metadata": {},
   "outputs": [
    {
     "name": "stdout",
     "output_type": "stream",
     "text": [
      "[ 0.95257413  0.88079708  0.73105858]\n"
     ]
    }
   ],
   "source": [
    "import numpy as np\n",
    "\n",
    "def sigmod(x):\n",
    "    \"\"\"\n",
    "    #sigmod function for vector/matrix\n",
    "    \"\"\"\n",
    "    s = 1/(1+1/np.exp(x)) \n",
    "    return s\n",
    "\n",
    "x = np.array([3,2,1])\n",
    "print (sigmod(x))\n"
   ]
  },
  {
   "cell_type": "markdown",
   "metadata": {},
   "source": [
    "### 练习2 计算sigmod函数的导数\n",
    "\n",
    "在之前的理论课程中，我们学习到了sigmod函数的导数公式如下：\n",
    "\n",
    "sigmod_derivative(x) = f'(x) = f(x)(1-f(x))\n"
   ]
  },
  {
   "cell_type": "code",
   "execution_count": 8,
   "metadata": {},
   "outputs": [
    {
     "name": "stdout",
     "output_type": "stream",
     "text": [
      "[ 0.19661193  0.10499359  0.04517666]\n"
     ]
    }
   ],
   "source": [
    "import numpy as np\n",
    "\n",
    "def sigmod_derivative(x):\n",
    "    \"\"\"\n",
    "    Compute the gradient (also called the slope or derivative) of the sigmoid function with respect to its input x.\n",
    "    You can store the output of the sigmoid function into variables and then use it to calculate the gradient.\n",
    "     \n",
    "    Arguments:\n",
    "    x -- A scalar or numpy array\n",
    "    Return:\n",
    "    ds -- Your computed gradient.\n",
    "    \"\"\"\n",
    "    \n",
    "    s = 1.0 / (1+1/np.exp(x))\n",
    "    ds = s * (1-s)\n",
    "    \n",
    "    return ds\n",
    "\n",
    "x = np.array([1,2,3])\n",
    "print (sigmod_derivative(x))\n"
   ]
  },
  {
   "cell_type": "markdown",
   "metadata": {},
   "source": [
    "### 练习3：将一副图像转为为一个向量\n",
    "\n",
    "在numpy中，有两个常用的函数：np.shape和np.reshape()。\n",
    "\n",
    "其中，X.shape可以用于查看当前矩阵的维度。\n",
    "\n",
    "X.reshape()可以用于修改矩阵的维度或形状。\n",
    "\n",
    "例如，对于一副彩色图像，其通常是由一个三维矩阵组成的（RGB三个通道）。然而，在深度学习的应用中，我们通常需要将其转换为一个矢量，其长度为3*length*width。\n",
    "\n",
    "即我们需要将一个三维的矩阵转换为一个一维的向量。\n",
    "\n",
    "接下来，我们需要实现一个image2vector函数，其输入为一个三维矩阵（length, height, 3），输出为一个矢量。"
   ]
  },
  {
   "cell_type": "code",
   "execution_count": 11,
   "metadata": {},
   "outputs": [
    {
     "name": "stdout",
     "output_type": "stream",
     "text": [
      "image2vector(image) = [[ 0.67826139]\n",
      " [ 0.29380381]\n",
      " [ 0.90714982]\n",
      " [ 0.52835647]\n",
      " [ 0.4215251 ]\n",
      " [ 0.45017551]\n",
      " [ 0.92814219]\n",
      " [ 0.96677647]\n",
      " [ 0.85304703]\n",
      " [ 0.52351845]\n",
      " [ 0.19981397]\n",
      " [ 0.27417313]\n",
      " [ 0.60659855]\n",
      " [ 0.00533165]\n",
      " [ 0.10820313]\n",
      " [ 0.49978937]\n",
      " [ 0.34144279]\n",
      " [ 0.94630077]]\n"
     ]
    }
   ],
   "source": [
    "import numpy as np\n",
    "\n",
    "def image2vector(image):\n",
    "    \"\"\"\n",
    "    Argument:\n",
    "    image -- a numpy array of shape (length, height, depth)\n",
    "    \n",
    "    Returns:\n",
    "    v -- a vector of shape (length*height*depth, 1)\n",
    "    \"\"\"\n",
    "    \n",
    "    v = image.reshape((image.shape[0]*image.shape[1]*image.shape[2], 1))\n",
    "    \n",
    "    return v\n",
    "\n",
    "image = np.array([\n",
    "        [\n",
    "            [ 0.67826139,  0.29380381],\n",
    "            [ 0.90714982,  0.52835647],\n",
    "            [ 0.4215251,  0.45017551]\n",
    "        ],\n",
    " \n",
    "        [\n",
    "            [ 0.92814219,  0.96677647],\n",
    "            [ 0.85304703,  0.52351845],\n",
    "            [ 0.19981397,  0.27417313]\n",
    "        ],\n",
    " \n",
    "        [\n",
    "            [ 0.60659855,  0.00533165],\n",
    "            [ 0.10820313,  0.49978937],\n",
    "            [ 0.34144279,  0.94630077]\n",
    "        ]\n",
    "])\n",
    "\n",
    "print (\"image2vector(image) = \" + str(image2vector(image)))\n"
   ]
  },
  {
   "attachments": {
    "image.png": {
     "image/png": "[encoded data removed]"
    }
   },
   "cell_type": "markdown",
   "metadata": {},
   "source": [
    "### 练习4：按行归一化\n",
    "\n",
    "在深度学习中，常用的一个技巧是需要对我们的数据进行归一化。\n",
    "\n",
    "通过，在对数据进行归一化后，梯度下降算法的收敛速度会明显加快。\n",
    "\n",
    "接下来，我们需要对一个矩阵进行按行归一化，归一化后的结果是每一个的长度为1。\n",
    "\n",
    "例如：\n",
    "\n",
    "x_normailized = x / ||x||\n",
    "\n",
    "![image.png](attachment:image.png)"
   ]
  },
  {
   "cell_type": "code",
   "execution_count": 15,
   "metadata": {},
   "outputs": [
    {
     "name": "stdout",
     "output_type": "stream",
     "text": [
      "normalizeRows(x) = [[ 0.          0.6         0.8       ]\n",
      " [ 0.13736056  0.82416338  0.54944226]]\n"
     ]
    }
   ],
   "source": [
    "import numpy as np\n",
    "\n",
    "def normalizeRows(x):\n",
    "    \"\"\"\n",
    "    Implement a function that normalizes each row of the matrix x (to have unit length).\n",
    "    \n",
    "    Argument:\n",
    "    x -- A numpy matrix of shape (n, m)\n",
    "    \n",
    "    Returns:\n",
    "    x -- The normalized (by row) numpy matrix. You are allowed to modify x.\n",
    "    \"\"\"\n",
    "    \n",
    "    x_norm = np.linalg.norm(x, axis=1, keepdims=True) #计算每一行的长度，得到一个列向量\n",
    "    x = x / x_norm #利用numpy的广播，用矩阵与列向量相除。\n",
    "    \n",
    "    return x\n",
    "\n",
    "x = np.array([\n",
    "    [0, 3, 4],\n",
    "    [1, 6, 4]\n",
    "])\n",
    "\n",
    "print (\"normalizeRows(x) = \" + str(normalizeRows(x)))\n"
   ]
  },
  {
   "attachments": {
    "image.png": {
     "image/png": "[encoded data removed]"
    }
   },
   "cell_type": "markdown",
   "metadata": {},
   "source": [
    "### 练习5：广播的使用及softmax函数的实现\n",
    "\n",
    "广播是numpy中一个非常强大的功能，它可以帮助我们对不同维度的矩阵、向量、标量之前快速计算。\n",
    "\n",
    "![image.png](attachment:image.png)"
   ]
  },
  {
   "cell_type": "code",
   "execution_count": 4,
   "metadata": {},
   "outputs": [
    {
     "name": "stdout",
     "output_type": "stream",
     "text": [
      "softmax(x) = [[  9.80897665e-01   8.94462891e-04   1.79657674e-02   1.21052389e-04\n",
      "    1.21052389e-04]\n",
      " [  8.78679856e-01   1.18916387e-01   8.01252314e-04   8.01252314e-04\n",
      "    8.01252314e-04]]\n"
     ]
    }
   ],
   "source": [
    "import numpy as np\n",
    "\n",
    "def softmax(x):\n",
    "    \"\"\"\n",
    "    Calculates the softmax for each row of the input x.\n",
    " \n",
    "    Your code should work for a row vector and also for matrices of shape (n, m).\n",
    " \n",
    "    Argument:\n",
    "    x -- A numpy matrix of shape (n,m)\n",
    " \n",
    "    Returns:\n",
    "    s -- A numpy matrix equal to the softmax of x, of shape (n,m)\n",
    "    \"\"\"\n",
    "    \n",
    "    x_exp = np.exp(x) #(n, m) \n",
    "    x_sum = np.sum(x_exp, axis=1, keepdims=True) #(n,1)\n",
    "    s = x_exp / x_sum #(n,m) boardcast\n",
    "    \n",
    "    return s\n",
    "\n",
    "x = np.array([\n",
    "    [9,2,5,0,0],\n",
    "    [7,5,0,0,0]\n",
    "])\n",
    "\n",
    "print (\"softmax(x) = \" + str(softmax(x)))\n"
   ]
  },
  {
   "attachments": {
    "image.png": {
     "image/png": "[encoded data removed]"
    }
   },
   "cell_type": "markdown",
   "metadata": {},
   "source": [
    "### 练习6：L1误差函数的实现\n",
    "\n",
    "我们需要使用numpy函数来实现L1误差函数：\n",
    "\n",
    "其中，L1误差函数的定义如下：\n",
    "\n",
    "![image.png](attachment:image.png)\n",
    "\n",
    "^y表示估计值，y表示真实值。"
   ]
  },
  {
   "cell_type": "code",
   "execution_count": 5,
   "metadata": {},
   "outputs": [
    {
     "name": "stdout",
     "output_type": "stream",
     "text": [
      "L1 = 1.1\n"
     ]
    }
   ],
   "source": [
    "import numpy as np\n",
    "\n",
    "def L1(yhat, y):\n",
    "    \"\"\"\n",
    "    Arguments:\n",
    "    yhat -- vector of size m (predicted labels)\n",
    "    y -- vector of size m (true labels)\n",
    "    \n",
    "    Returns:\n",
    "    loss -- the value of the L1 loss function defined above\n",
    "    \"\"\"\n",
    "    \n",
    "    loss = np.sum(np.abs(y-yhat))\n",
    "    return loss\n",
    "\n",
    "yhat = np.array([.9, 0.2, 0.1, .4, .9])\n",
    "y = np.array([1, 0, 0, 1, 1])\n",
    "print (\"L1 = \" + str(L1(yhat,y)))\n"
   ]
  },
  {
   "attachments": {
    "image.png": {
     "image/png": "[encoded data removed]"
    }
   },
   "cell_type": "markdown",
   "metadata": {},
   "source": [
    "### 练习7：L2误差函数的实现\n",
    "\n",
    "L2误差函数的定义如下：\n",
    "\n",
    "![image.png](attachment:image.png)\n",
    "\n"
   ]
  },
  {
   "cell_type": "code",
   "execution_count": 6,
   "metadata": {},
   "outputs": [
    {
     "name": "stdout",
     "output_type": "stream",
     "text": [
      "L2 = 0.43\n"
     ]
    }
   ],
   "source": [
    "import numpy as np\n",
    "\n",
    "def L2(yhat, y):\n",
    "    \"\"\"\n",
    "    Arguments:\n",
    "    yhat -- vector of size m (predicted labels)\n",
    "    y -- vector of size m (true labels)\n",
    "    \n",
    "    Returns:\n",
    "    loss -- the value of the L2 loss function defined above\n",
    "    \"\"\"\n",
    "    \n",
    "    loss = np.sum(np.power((y-yhat), 2))\n",
    "    return loss\n",
    "\n",
    "yhat = np.array([.9, 0.2, 0.1, .4, .9])\n",
    "y = np.array([1, 0, 0, 1, 1])\n",
    "print (\"L2 = \" + str(L2(yhat,y)))\n"
   ]
  },
  {
   "cell_type": "code",
   "execution_count": null,
   "metadata": {
    "collapsed": true
   },
   "outputs": [],
   "source": []
  }
 ],
 "metadata": {
  "kernelspec": {
   "display_name": "Python 3",
   "language": "python",
   "name": "python3"
  },
  "language_info": {
   "codemirror_mode": {
    "name": "ipython",
    "version": 3
   },
   "file_extension": ".py",
   "mimetype": "text/x-python",
   "name": "python",
   "nbconvert_exporter": "python",
   "pygments_lexer": "ipython3",
   "version": "3.6.3"
  }
 },
 "nbformat": 4,
 "nbformat_minor": 2
}
